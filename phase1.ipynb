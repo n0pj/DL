{
 "cells": [
  {
   "cell_type": "code",
   "execution_count": 1,
   "metadata": {},
   "outputs": [],
   "source": [
    "from PIL import Image\n",
    "import os, glob\n",
    "import numpy as np\n",
    "from sklearn import model_selection\n",
    "import datetime\n",
    "import tqdm\n",
    "#ラベルの指定\n",
    "base_dir = \"./data/\"\n",
    "labels = os.listdir(base_dir)\n",
    "number_labels = len(labels)\n",
    "image_size = 2 ** 6\n",
    "num_testdata = 60\n"
   ]
  },
  {
   "cell_type": "code",
   "execution_count": 27,
   "metadata": {},
   "outputs": [
    {
     "data": {
      "text/plain": [
       "'/home/n0pj/Dev/classifier'"
      ]
     },
     "execution_count": 27,
     "metadata": {},
     "output_type": "execute_result"
    }
   ],
   "source": [
    "os.getcwd()"
   ]
  },
  {
   "cell_type": "code",
   "execution_count": 28,
   "metadata": {},
   "outputs": [],
   "source": [
    "\n",
    "#画像を読み込む\n",
    "x_train = []\n",
    "x_test = []\n",
    "y_train = []\n",
    "y_test = []\n",
    "\n",
    "for index, label in enumerate(labels):\n",
    "    images_dir = \"./data/\" + label\n",
    "    files = glob.glob(images_dir + \"/*.jpg\")\n",
    "\n",
    "    for index_file, image_file in enumerate(files):\n",
    "        img = Image.open(image_file)\n",
    "        img = img.convert(\"RGB\")\n",
    "        img = img.resize((image_size, image_size))\n",
    "        data = np.asarray(img)\n",
    "\n",
    "        if index_file > num_testdata:\n",
    "            x_test.append(data)\n",
    "            y_test.append(index)\n",
    "        else:\n",
    "            for angle in range(-40, 40, 5):\n",
    "                #画像の回転\n",
    "                img_rotate = img.rotate(angle)\n",
    "                data = np.asarray(img_rotate)\n",
    "                x_train.append(data)\n",
    "                y_train.append(index)\n",
    "\n",
    "                #画像の反転\n",
    "                img_trans = img.transpose(Image.FLIP_LEFT_RIGHT)\n",
    "                data = np.asarray(img_trans)\n",
    "                x_train.append(data)\n",
    "                y_train.append(index)\n",
    "\n"
   ]
  },
  {
   "cell_type": "code",
   "execution_count": 29,
   "metadata": {},
   "outputs": [],
   "source": [
    "\n",
    "x_train = np.asarray(x_train)\n",
    "x_test = np.asarray(x_test)\n",
    "y_train = np.asarray(y_train)\n",
    "y_test = np.asarray(y_test)\n"
   ]
  },
  {
   "cell_type": "code",
   "execution_count": 30,
   "metadata": {},
   "outputs": [],
   "source": [
    "xy = (x_train, x_test, y_train, y_test)\n",
    "file_name = datetime.date.today()\n",
    "np.save(\"./numpy_data_{}.npy\".format(file_name), xy)"
   ]
  },
  {
   "cell_type": "code",
   "execution_count": null,
   "metadata": {},
   "outputs": [],
   "source": []
  },
  {
   "cell_type": "code",
   "execution_count": null,
   "metadata": {},
   "outputs": [],
   "source": []
  },
  {
   "cell_type": "code",
   "execution_count": null,
   "metadata": {},
   "outputs": [],
   "source": []
  }
 ],
 "metadata": {
  "kernelspec": {
   "display_name": "Python 3",
   "language": "python",
   "name": "python3"
  },
  "language_info": {
   "codemirror_mode": {
    "name": "ipython",
    "version": 3
   },
   "file_extension": ".py",
   "mimetype": "text/x-python",
   "name": "python",
   "nbconvert_exporter": "python",
   "pygments_lexer": "ipython3",
   "version": "3.7.1"
  }
 },
 "nbformat": 4,
 "nbformat_minor": 2
}
