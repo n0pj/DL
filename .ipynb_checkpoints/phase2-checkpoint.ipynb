{
 "cells": [
  {
   "cell_type": "code",
   "execution_count": 3,
   "metadata": {},
   "outputs": [],
   "source": [
    "import tensorflow as tf\n",
    "import numpy as np\n",
    "import os\n",
    "import matplotlib.pyplot as plt\n",
    "from tensorflow.keras.models import Sequential\n",
    "from tensorflow.keras.layers import Conv2D, MaxPooling2D, Activation\n",
    "from tensorflow.keras.layers import Flatten, Dense, Dropout"
   ]
  },
  {
   "cell_type": "code",
   "execution_count": 4,
   "metadata": {},
   "outputs": [],
   "source": [
    "base_dir = \"./data/\"\n",
    "labels = os.listdir(base_dir)\n",
    "labels_count = len(labels)\n",
    "image_size = 2 ** 6"
   ]
  },
  {
   "cell_type": "code",
   "execution_count": null,
   "metadata": {},
   "outputs": [],
   "source": [
    "def main():\n",
    "    x_train, x_test, y_train, y_test = np.load(\"./numpy_data_2019-04-20.npy\")\n",
    "    x_train, x_test = x_train.astype(\"float\") / 255, x_test.astype(\"float\") / 255\n",
    "    y_train, y_test = tf.one_hot(y_train, labels_count), tf.one_hot(y_test, labels_count)\n",
    "    model = train_model(x_train, y_train, x_test, y_test)\n",
    "    evaluate_model(model, x_test, y_test)\n",
    "    \n",
    "def train_model(x_train, y_train, x_test, y_test):\n",
    "    model = Sequential()\n",
    "    model.add(Conv2D(256, (3, 3), padding=\"same\", input_shape=(x_train.shape[1:])))\n",
    "    model.add(Activation(\"relu\"))\n",
    "    model.add(Conv2D(256, (3, 3)))\n",
    "    model.add(MaxPooling2D(2, 2))\n",
    "    \n",
    "    model.add(Dropout(0.25))\n",
    "    \n",
    "    model.add(Conv2D(128, (3, 3)))\n",
    "    model.add(Activation(\"relu\"))\n",
    "    model.add(Conv2D(128, (3, 3)))\n",
    "    model.add(MaxPooling2D(2, 2))\n",
    "    model.add(Dropout(0.25))\n",
    "    \n",
    "    model.add(Conv2D(64, (3, 3)))\n",
    "    model.add(Activation(\"relu\"))\n",
    "    model.add(Conv2D(64, (3, 3)))\n",
    "    model.add(MaxPooling2D(2, 2))\n",
    "    model.add(Dropout(0.25))\n",
    "\n",
    "    model.add(Flatten())\n",
    "    \n",
    "    model.add(Dense(image_size))\n",
    "    model.add(Activation(\"relu\"))\n",
    "    model.add(Dropout(0.25))\n",
    "    \n",
    "    model.add(Dense(labels_count))\n",
    "    model.add(Activation(\"softmax\"))\n",
    "\n",
    "    model.compile(optimizer=\"adam\",\n",
    "                 loss=\"categorical_crossentropy\",\n",
    "                 metrics=[\"accuracy\"])\n",
    "    model.fit(x_train, y_train,\n",
    "              batch_size=128, epochs=7,\n",
    "              verbose=1,\n",
    "              validation_data=(x_test, y_test)\n",
    "    model.summary()\n",
    "    return model\n",
    "\n",
    "def evaluate_model(model, x_test, y_test):\n",
    "    score = model.evaluate(x_test, y_test, verbose=1)\n",
    "    print(\"loss: \", score[0])\n",
    "    print(\"Accu: \", score[1])\n"
   ]
  },
  {
   "cell_type": "code",
   "execution_count": null,
   "metadata": {},
   "outputs": [],
   "source": [
    "main()"
   ]
  },
  {
   "cell_type": "code",
   "execution_count": null,
   "metadata": {},
   "outputs": [],
   "source": []
  }
 ],
 "metadata": {
  "kernelspec": {
   "display_name": "Python 3",
   "language": "python",
   "name": "python3"
  },
  "language_info": {
   "codemirror_mode": {
    "name": "ipython",
    "version": 3
   },
   "file_extension": ".py",
   "mimetype": "text/x-python",
   "name": "python",
   "nbconvert_exporter": "python",
   "pygments_lexer": "ipython3",
   "version": "3.7.1"
  }
 },
 "nbformat": 4,
 "nbformat_minor": 2
}
