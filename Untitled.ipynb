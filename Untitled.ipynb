{
 "cells": [
  {
   "cell_type": "code",
   "execution_count": 175,
   "metadata": {},
   "outputs": [],
   "source": [
    "import tensorflow as tf\n",
    "import numpy as np\n",
    "import os\n",
    "tf.keras.backend.clear_session()"
   ]
  },
  {
   "cell_type": "code",
   "execution_count": 176,
   "metadata": {},
   "outputs": [],
   "source": [
    "from tensorflow import keras\n",
    "base_dir = \"./data/\"\n",
    "labels = os.listdir(base_dir)\n",
    "labels_count = len(labels)\n",
    "image_size = 2**6\n",
    "dim = 3\n",
    "\n",
    "# img_inputs = keras.Input(shape=(28, 28, 3))\n",
    "img_inputs = keras.Input(shape=(image_size * image_size * 3, ))"
   ]
  },
  {
   "cell_type": "code",
   "execution_count": 177,
   "metadata": {},
   "outputs": [],
   "source": [
    "from tensorflow.keras import layers\n",
    "\n",
    "dense = layers.Dense(64, activation=\"relu\")\n",
    "x = dense(img_inputs)"
   ]
  },
  {
   "cell_type": "code",
   "execution_count": 178,
   "metadata": {},
   "outputs": [],
   "source": [
    "x = layers.Dense(64, activation=\"relu\")(x)\n",
    "outputs = layers.Dense(labels_count, activation=\"softmax\")(x)"
   ]
  },
  {
   "cell_type": "code",
   "execution_count": 179,
   "metadata": {},
   "outputs": [],
   "source": [
    "model = keras.Model(inputs=img_inputs, outputs=outputs)"
   ]
  },
  {
   "cell_type": "code",
   "execution_count": 180,
   "metadata": {},
   "outputs": [
    {
     "name": "stdout",
     "output_type": "stream",
     "text": [
      "Model: \"model\"\n",
      "_________________________________________________________________\n",
      "Layer (type)                 Output Shape              Param #   \n",
      "=================================================================\n",
      "input_1 (InputLayer)         [(None, 12288)]           0         \n",
      "_________________________________________________________________\n",
      "dense (Dense)                (None, 64)                786496    \n",
      "_________________________________________________________________\n",
      "dense_1 (Dense)              (None, 64)                4160      \n",
      "_________________________________________________________________\n",
      "dense_2 (Dense)              (None, 2)                 130       \n",
      "=================================================================\n",
      "Total params: 790,786\n",
      "Trainable params: 790,786\n",
      "Non-trainable params: 0\n",
      "_________________________________________________________________\n"
     ]
    }
   ],
   "source": [
    "model.summary()"
   ]
  },
  {
   "cell_type": "code",
   "execution_count": 181,
   "metadata": {},
   "outputs": [
    {
     "data": {
      "image/png": "[encoded data removed]",
      "text/plain": [
       "<IPython.core.display.Image object>"
      ]
     },
     "execution_count": 181,
     "metadata": {},
     "output_type": "execute_result"
    }
   ],
   "source": [
    "keras.utils.plot_model(model, \"model.png\", show_shapes=True)"
   ]
  },
  {
   "cell_type": "code",
   "execution_count": 182,
   "metadata": {},
   "outputs": [],
   "source": [
    "x_train, x_test, y_train, y_test = np.load(\"./numpy_data.npy\")"
   ]
  },
  {
   "cell_type": "code",
   "execution_count": 183,
   "metadata": {},
   "outputs": [
    {
     "data": {
      "text/plain": [
       "(3264, 64, 64, 3)"
      ]
     },
     "execution_count": 183,
     "metadata": {},
     "output_type": "execute_result"
    }
   ],
   "source": [
    "x_train.shape"
   ]
  },
  {
   "cell_type": "code",
   "execution_count": 184,
   "metadata": {},
   "outputs": [
    {
     "data": {
      "text/plain": [
       "(1312, 64, 64, 3)"
      ]
     },
     "execution_count": 184,
     "metadata": {},
     "output_type": "execute_result"
    }
   ],
   "source": [
    "x_test.shape"
   ]
  },
  {
   "cell_type": "code",
   "execution_count": 185,
   "metadata": {},
   "outputs": [],
   "source": [
    "x_train = x_train.reshape(3264, 12288).astype('float32') / 255\n",
    "x_test = x_test.reshape(1312, 12288).astype('float32') / 255\n",
    "y_train = tf.one_hot(y_train, labels_count)complex\n",
    "y_test = tf.one_hot(y_test, labels_count)"
   ]
  },
  {
   "cell_type": "code",
   "execution_count": 186,
   "metadata": {},
   "outputs": [
    {
     "data": {
      "text/plain": [
       "(3264, 12288)"
      ]
     },
     "execution_count": 186,
     "metadata": {},
     "output_type": "execute_result"
    }
   ],
   "source": [
    "x_train.shape"
   ]
  },
  {
   "cell_type": "code",
   "execution_count": 187,
   "metadata": {},
   "outputs": [
    {
     "data": {
      "text/plain": [
       "TensorShape([3264, 2])"
      ]
     },
     "execution_count": 187,
     "metadata": {},
     "output_type": "execute_result"
    }
   ],
   "source": [
    "y_train.shape"
   ]
  },
  {
   "cell_type": "code",
   "execution_count": 188,
   "metadata": {},
   "outputs": [
    {
     "data": {
      "text/plain": [
       "(3264, 12288)"
      ]
     },
     "execution_count": 188,
     "metadata": {},
     "output_type": "execute_result"
    }
   ],
   "source": [
    "x_train.shape"
   ]
  },
  {
   "cell_type": "code",
   "execution_count": 189,
   "metadata": {},
   "outputs": [],
   "source": [
    "model.compile(loss=\"categorical_crossentropy\",\n",
    "              optimizer=keras.optimizers.Adam(),\n",
    "              metrics=[\"accuracy\"])\n"
   ]
  },
  {
   "cell_type": "code",
   "execution_count": 191,
   "metadata": {},
   "outputs": [
    {
     "name": "stdout",
     "output_type": "stream",
     "text": [
      "Train on 2611 samples, validate on 653 samples\n",
      "Epoch 1/25\n",
      "2611/2611 [==============================] - 0s 55us/sample - loss: 0.2456 - accuracy: 0.9092 - val_loss: 2.8321 - val_accuracy: 0.2221\n",
      "Epoch 2/25\n",
      "2611/2611 [==============================] - 0s 52us/sample - loss: 0.2431 - accuracy: 0.8985 - val_loss: 1.8269 - val_accuracy: 0.4043\n",
      "Epoch 3/25\n",
      "2611/2611 [==============================] - 0s 53us/sample - loss: 0.1835 - accuracy: 0.9322 - val_loss: 2.2908 - val_accuracy: 0.3538\n",
      "Epoch 4/25\n",
      "2611/2611 [==============================] - 0s 53us/sample - loss: 0.1649 - accuracy: 0.9383 - val_loss: 3.6439 - val_accuracy: 0.2848\n",
      "Epoch 5/25\n",
      "2611/2611 [==============================] - 0s 54us/sample - loss: 0.1518 - accuracy: 0.9406 - val_loss: 3.1280 - val_accuracy: 0.3292\n",
      "Epoch 6/25\n",
      "2611/2611 [==============================] - 0s 53us/sample - loss: 0.1058 - accuracy: 0.9655 - val_loss: 2.3362 - val_accuracy: 0.4227\n",
      "Epoch 7/25\n",
      "2611/2611 [==============================] - 0s 53us/sample - loss: 0.0858 - accuracy: 0.9751 - val_loss: 1.9875 - val_accuracy: 0.4763\n",
      "Epoch 8/25\n",
      "2611/2611 [==============================] - 0s 53us/sample - loss: 0.1176 - accuracy: 0.9583 - val_loss: 1.1391 - val_accuracy: 0.6386\n",
      "Epoch 9/25\n",
      "2611/2611 [==============================] - 0s 53us/sample - loss: 0.1052 - accuracy: 0.9659 - val_loss: 4.1608 - val_accuracy: 0.3461\n",
      "Epoch 10/25\n",
      "2611/2611 [==============================] - 0s 53us/sample - loss: 0.0860 - accuracy: 0.9701 - val_loss: 3.9426 - val_accuracy: 0.3752\n",
      "Epoch 11/25\n",
      "2611/2611 [==============================] - 0s 53us/sample - loss: 0.0485 - accuracy: 0.9843 - val_loss: 3.9578 - val_accuracy: 0.3691\n",
      "Epoch 12/25\n",
      "2611/2611 [==============================] - 0s 51us/sample - loss: 0.0433 - accuracy: 0.9893 - val_loss: 3.7093 - val_accuracy: 0.3920\n",
      "Epoch 13/25\n",
      "2611/2611 [==============================] - 0s 54us/sample - loss: 0.0285 - accuracy: 0.9954 - val_loss: 4.1502 - val_accuracy: 0.4074\n",
      "Epoch 14/25\n",
      "2611/2611 [==============================] - 0s 53us/sample - loss: 0.0248 - accuracy: 0.9950 - val_loss: 3.4530 - val_accuracy: 0.4456\n",
      "Epoch 15/25\n",
      "2611/2611 [==============================] - 0s 52us/sample - loss: 0.0409 - accuracy: 0.9885 - val_loss: 3.2370 - val_accuracy: 0.4977\n",
      "Epoch 16/25\n",
      "2611/2611 [==============================] - 0s 52us/sample - loss: 0.0244 - accuracy: 0.9935 - val_loss: 3.0231 - val_accuracy: 0.4701\n",
      "Epoch 17/25\n",
      "2611/2611 [==============================] - 0s 53us/sample - loss: 0.0162 - accuracy: 0.9985 - val_loss: 4.8394 - val_accuracy: 0.3844\n",
      "Epoch 18/25\n",
      "2611/2611 [==============================] - 0s 59us/sample - loss: 0.0133 - accuracy: 0.9981 - val_loss: 4.0369 - val_accuracy: 0.4242\n",
      "Epoch 19/25\n",
      "2611/2611 [==============================] - 0s 53us/sample - loss: 0.0100 - accuracy: 1.0000 - val_loss: 4.7794 - val_accuracy: 0.4150\n",
      "Epoch 20/25\n",
      "2611/2611 [==============================] - 0s 57us/sample - loss: 0.0079 - accuracy: 1.0000 - val_loss: 4.9388 - val_accuracy: 0.3905\n",
      "Epoch 21/25\n",
      "2611/2611 [==============================] - 0s 56us/sample - loss: 0.0121 - accuracy: 0.9985 - val_loss: 4.7152 - val_accuracy: 0.4089\n",
      "Epoch 22/25\n",
      "2611/2611 [==============================] - 0s 51us/sample - loss: 0.0080 - accuracy: 0.9989 - val_loss: 5.8395 - val_accuracy: 0.3691\n",
      "Epoch 23/25\n",
      "2611/2611 [==============================] - 0s 55us/sample - loss: 0.0088 - accuracy: 0.9992 - val_loss: 5.1378 - val_accuracy: 0.4242\n",
      "Epoch 24/25\n",
      "2611/2611 [==============================] - 0s 55us/sample - loss: 0.0262 - accuracy: 0.9920 - val_loss: 4.3740 - val_accuracy: 0.4456\n",
      "Epoch 25/25\n",
      "2611/2611 [==============================] - 0s 54us/sample - loss: 0.5597 - accuracy: 0.8682 - val_loss: 3.5595 - val_accuracy: 0.3124\n"
     ]
    }
   ],
   "source": [
    "history = model.fit(x_train, y_train,\n",
    "                    batch_size=64,\n",
    "                    epochs=25,\n",
    "                    validation_split=0.2)"
   ]
  },
  {
   "cell_type": "code",
   "execution_count": 192,
   "metadata": {},
   "outputs": [
    {
     "name": "stdout",
     "output_type": "stream",
     "text": [
      "1312/1312 [==============================] - 0s 60us/sample - loss: 1.6622 - accuracy: 0.6372\n",
      "Test loss: 1.662204668533466\n",
      "Test acc: 0.6371951103210449\n"
     ]
    }
   ],
   "source": [
    "test_scores = model.evaluate(x_test, y_test, verbose=1)\n",
    "print(\"Test loss: {}\".format(test_scores[0]))\n",
    "print(\"Test acc: {}\".format(test_scores[1]))"
   ]
  },
  {
   "cell_type": "code",
   "execution_count": null,
   "metadata": {},
   "outputs": [],
   "source": []
  }
 ],
 "metadata": {
  "kernelspec": {
   "display_name": "Python 3",
   "language": "python",
   "name": "python3"
  },
  "language_info": {
   "codemirror_mode": {
    "name": "ipython",
    "version": 3
   },
   "file_extension": ".py",
   "mimetype": "text/x-python",
   "name": "python",
   "nbconvert_exporter": "python",
   "pygments_lexer": "ipython3",
   "version": "3.7.1"
  }
 },
 "nbformat": 4,
 "nbformat_minor": 2
}
